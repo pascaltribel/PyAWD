{
 "cells": [
  {
   "cell_type": "code",
   "execution_count": 28,
   "id": "3b3ed90f-3522-4bc4-9017-d93f6a89c7b4",
   "metadata": {},
   "outputs": [],
   "source": [
    "# PyAWD - AcousticWaveDataset\n",
    "# Tribel Pascal - pascal.tribel@ulb.be\n",
    "\n",
    "import numpy as np\n",
    "import devito as dvt\n",
    "import matplotlib.pyplot as plt\n",
    "import torch\n",
    "from tqdm.auto import tqdm\n",
    "\n",
    "from PyAWD.GenerateVideo import generate_video\n",
    "from PyAWD.utils import *\n",
    "from PyAWD.Marmousi import *\n",
    "\n",
    "dvt.logger.set_log_level('WARNING')\n",
    "\n",
    "def solve_pde(grid, nx, ndt, ddt, epicenter, velocity_model):\n",
    "    \"\"\"\n",
    "    Solves the Acoustic Wave Equation for the input parameters\n",
    "    Arguments:\n",
    "        - grid: a Devito Grid Object\n",
    "        - nx: the discretization size of the array\n",
    "        - ndt: the number of iteration for which the result is stored\n",
    "        - ddt: the time step used for the Operator solving iterations\n",
    "        - epicenter: the epicenter of the Ricker Wavelet at the beginning of the simulation\n",
    "        - velocity_model: the velocity field across which the wave propagates\n",
    "    Returns:\n",
    "        - u: a Devito TimeFunction containing the solutions for the `ndt` steps\n",
    "    \"\"\"\n",
    "    u = dvt.TimeFunction(name='u', grid=grid, space_order=2, save=ndt, time_order=2)\n",
    "    u.data[:] = get_ricker_wavelet(nx, x0=epicenter[0], y0=epicenter[1])\n",
    "    eq = dvt.Eq(u.dt2, (velocity_model**2)*(u.dx2+u.dy2))\n",
    "    stencil = dvt.solve(eq, u.forward)\n",
    "    op = dvt.Operator(dvt.Eq(u.forward, stencil), opt='noop')\n",
    "    op.apply(dt=ddt)\n",
    "    return np.array(u.data)\n",
    "\n",
    "class AcousticWaveDataset(torch.utils.data.Dataset):\n",
    "    \"\"\"\n",
    "    A Pytorch dataset containing acoustic waves propagating in the Marmousi velocity field.\n",
    "    Arguments:\n",
    "        - size: the number of samples to generate in the dataset\n",
    "        - nx: the discretization size of the array (maximum size is currently 955)\n",
    "        - sx: the sub-scaling factor of the array (0.5 means 1/2 values are returned)\n",
    "        - ddt: the time step used for the Operator solving iterations\n",
    "        - dt: the time step used for storing the wave propagation step (this should be higher than ddt)\n",
    "        - t: the simulations duration\n",
    "    \"\"\"\n",
    "    def __init__(self, size, nx=128, sx=1., ddt=0.01, dt=2, t=10, interrogators=[(0, 0)]):\n",
    "        try:\n",
    "            if dt < ddt:\n",
    "                raise ValueError('dt should be >= ddt')\n",
    "            self.size = size\n",
    "            self.nx = min(nx, 955)\n",
    "            self.sx = sx\n",
    "            self.ddt = ddt\n",
    "            self.dt = dt\n",
    "            self.nt = int(t/self.dt)\n",
    "            self.ndt = int(self.nt*(self.dt/self.ddt))\n",
    "            self.interrogators = interrogators\n",
    "            \n",
    "            self.grid = dvt.Grid(shape=(self.nx, self.nx), extent=(1., 1.))\n",
    "            self.velocity_model = dvt.Function(name='c', grid=self.grid)\n",
    "            self.velocity_model.data[:] = Marmousi(self.nx).get_data()\n",
    "    \n",
    "            self.epicenters = np.random.randint(-self.nx//2, self.nx//2, size=(self.size, 2)).reshape((self.size, 2))\n",
    "            self.generate_data()\n",
    "\n",
    "            self.cmap = get_black_cmap()\n",
    "            \n",
    "        except ValueError as err:\n",
    "            print(err)\n",
    "\n",
    "    def generate_data(self):\n",
    "        \"\"\"\n",
    "        Generates the dataset content by solving the Acoustic Wave PDE for each of the `epicenters`\n",
    "        \"\"\"\n",
    "        self.data = []\n",
    "        self.interrogators_data = {}\n",
    "        for i in tqdm(range(self.size)):\n",
    "            data = solve_pde(self.grid, self.nx, self.ndt, self.ddt, self.epicenters[i], self.velocity_model)\n",
    "            self.data.append(data[::int(self.ndt/self.nt)])\n",
    "            for interrogator in self.interrogators:\n",
    "                self.interrogators_data[interrogator] = data[:, interrogator[0], interrogator[1]]\n",
    "        self.data = np.array(self.data)\n",
    "\n",
    "    def interrogate(self, point):\n",
    "        \"\"\"\n",
    "        Returns the amplitude measurements for the interrogator at coordinates `point`. \n",
    "        Arguments:\n",
    "            - point: the interrogator position as a Tuple\n",
    "        \"\"\"\n",
    "        if point not in self.interrogators_data:\n",
    "            print(\"Error: the interrogated point is not interrogable.\")\n",
    "            print(\"Available interrogable points:\", list(self.interrogators_data.keys()))\n",
    "        else:\n",
    "            return self.interrogators_data[point]\n",
    "\n",
    "    def plot_item(self, idx):\n",
    "        \"\"\"\n",
    "        Plots the simulation of the idx^th sample\n",
    "        Arguments:\n",
    "            - idx: the number of the sample to plot\n",
    "        \"\"\"\n",
    "        epicenter, item = self[idx]\n",
    "        fig, ax = plt.subplots(1, self.nt, figsize=(self.nt*3, 3))\n",
    "        for i in range(self.nt):\n",
    "            ax[i].imshow(self.velocity_model.data[::int(1/self.sx), ::int(1/self.sx)], vmin=np.min(self.velocity_model.data[::int(1/self.sx), ::int(1/self.sx)]), vmax=np.max(self.velocity_model.data[::int(1/self.sx), ::int(1/self.sx)]), cmap=\"gray\")\n",
    "            x = ax[i].imshow(item[i*(item.shape[0]//self.nt)], \n",
    "                             vmin=-np.max(np.abs(item[i*(item.shape[0]//self.nt):])), \n",
    "                             vmax=np.max(np.abs(item[i*(item.shape[0]//self.nt):])), \n",
    "                             cmap=self.cmap)\n",
    "            ax[i].set_title(\"t = \" + str(i*(item.shape[0]//self.nt)*self.dt) + \"s\")\n",
    "            ax[i].axis(\"off\")\n",
    "            fig.colorbar(x)\n",
    "        plt.tight_layout()\n",
    "        plt.show()\n",
    "\n",
    "    def generate_video(self, idx, filename, nb_images):\n",
    "        \"\"\"\n",
    "        Generates a video representing the simulation of the idx^th sample propagation\n",
    "        Arguments:\n",
    "            - idx: the number of the sample to simulate in the video\n",
    "            - filename: the name of the video output file (without extension)\n",
    "                        The video will be stored in a file called `filename`.mp4\n",
    "            - nb_images: the number of frames used to generate the video\n",
    "        \"\"\"\n",
    "        u = solve_pde(self.grid, self.nx, self.ndt, self.ddt, self.epicenters[idx], self.velocity_model)\n",
    "        generate_video(u[::self.ndt//(nb_images)], filename, dt=self.ndt*self.ddt/(nb_images), c=self.velocity_model, verbose=True)\n",
    "\n",
    "    def set_scaling_factor(self, sx):\n",
    "        \"\"\"\n",
    "        Fixes a new scaling factor (0.5 means 1/2 values are returned). It should be <= 1.\n",
    "        Arguments:\n",
    "            - sx: the new scaling factor\n",
    "        \"\"\"\n",
    "        if sx <= 1.:\n",
    "            self.sx = sx\n",
    "        else:\n",
    "            print(\"The scaling factor should be lower or equal to 1.\")\n",
    "            \n",
    "    def __len__(self):\n",
    "        return self.size\n",
    "\n",
    "    def __getitem__(self, idx):\n",
    "        return self.epicenters[idx], self.data[idx][:, ::int(1/self.sx), ::int(1/self.sx)]"
   ]
  },
  {
   "cell_type": "code",
   "execution_count": 29,
   "id": "16870b9d-ba3c-49c9-9ec3-123e6c43f73b",
   "metadata": {},
   "outputs": [
    {
     "data": {
      "application/vnd.jupyter.widget-view+json": {
       "model_id": "54213974f6e84fd9b7207b18a03219ea",
       "version_major": 2,
       "version_minor": 0
      },
      "text/plain": [
       "  0%|          | 0/10 [00:00<?, ?it/s]"
      ]
     },
     "metadata": {},
     "output_type": "display_data"
    }
   ],
   "source": [
    "a  = AcousticWaveDataset(10, interrogators=[(-10, 0), (10, 0), (0, -10), (0, 10)])"
   ]
  },
  {
   "cell_type": "code",
   "execution_count": 33,
   "id": "c3d1a6f6-e970-4259-b068-75e912e3fbea",
   "metadata": {},
   "outputs": [
    {
     "data": {
      "text/plain": [
       "[<matplotlib.lines.Line2D at 0x29c915290>]"
      ]
     },
     "execution_count": 33,
     "metadata": {},
     "output_type": "execute_result"
    },
    {
     "data": {
      "image/png": "[encoded data removed]",
      "text/plain": [
       "<Figure size 640x480 with 1 Axes>"
      ]
     },
     "metadata": {},
     "output_type": "display_data"
    }
   ],
   "source": [
    "plt.plot(a.interrogate((-10, 0)))\n",
    "plt.plot(a.interrogate((10, 0)))\n",
    "plt.plot(a.interrogate((0, -10)))\n",
    "plt.plot(a.interrogate((0, 10)))"
   ]
  }
 ],
 "metadata": {
  "kernelspec": {
   "display_name": "Python 3 (ipykernel)",
   "language": "python",
   "name": "python3"
  },
  "language_info": {
   "codemirror_mode": {
    "name": "ipython",
    "version": 3
   },
   "file_extension": ".py",
   "mimetype": "text/x-python",
   "name": "python",
   "nbconvert_exporter": "python",
   "pygments_lexer": "ipython3",
   "version": "3.11.6"
  }
 },
 "nbformat": 4,
 "nbformat_minor": 5
}
