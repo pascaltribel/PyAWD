{
 "cells": [
  {
   "cell_type": "markdown",
   "id": "c6fee64a-deea-4ee7-a7b5-c6eeb4e85cd4",
   "metadata": {},
   "source": [
    "# Libraries import"
   ]
  },
  {
   "cell_type": "markdown",
   "id": "557b97b7-837c-4c77-9f65-c5287efc20ee",
   "metadata": {},
   "source": [
    "If necessary, libraries installation:"
   ]
  },
  {
   "cell_type": "code",
   "execution_count": 1,
   "id": "230038cb-6fae-4ee1-b783-4c3815a15637",
   "metadata": {},
   "outputs": [],
   "source": [
    "import numpy as np\n",
    "from devito import *\n",
    "import matplotlib.pyplot as plt\n",
    "from pyawd import Marmousi\n",
    "from pyawd.utils import *\n",
    "from pyawd.GenerateVideo import generate_quiver_video\n",
    "from tqdm.notebook import tqdm\n",
    "from glob import glob\n",
    "from subprocess import call\n",
    "from os import remove"
   ]
  },
  {
   "cell_type": "markdown",
   "id": "02aba32f-82b4-461e-87ad-18b5695f6b24",
   "metadata": {},
   "source": [
    "# Grid definition\n",
    "We generate a `Grid` in 2D which is $1000$ m large and long."
   ]
  },
  {
   "cell_type": "code",
   "execution_count": 2,
   "id": "548de9de-a9b8-4490-8e20-fc81f5083d7a",
   "metadata": {},
   "outputs": [],
   "source": [
    "nx = 32 # space discretisation\n",
    "dt = 0.01 # time discretisation\n",
    "nt = 1000 # number of timesteps\n",
    "\n",
    "grid = Grid(shape=(nx, nx), extent=(1000., 1000.), dtype=np.double)"
   ]
  },
  {
   "cell_type": "markdown",
   "id": "f14b1e03-ea02-4fd2-8d06-3209e6acf248",
   "metadata": {},
   "source": [
    "# External force"
   ]
  },
  {
   "cell_type": "code",
   "execution_count": 3,
   "id": "11714dec-d8c2-46ab-9715-68f16f8368c8",
   "metadata": {},
   "outputs": [],
   "source": [
    "s_x, s_y = create_explosive_source(nx)\n",
    "\n",
    "s_t = np.exp(-(dt)*(np.arange(nt)-(nt//10))**2)"
   ]
  },
  {
   "cell_type": "code",
   "execution_count": 4,
   "id": "7b0ecd55-0795-4fda-a886-51425b760758",
   "metadata": {},
   "outputs": [
    {
     "data": {
      "text/plain": [
       "Text(0, 0.5, 'Scaling factor')"
      ]
     },
     "execution_count": 4,
     "metadata": {},
     "output_type": "execute_result"
    },
    {
     "data": {
      "image/png": "[encoded data removed]",
      "text/plain": [
       "<Figure size 640x480 with 1 Axes>"
      ]
     },
     "metadata": {},
     "output_type": "display_data"
    }
   ],
   "source": [
    "plt.plot(np.arange(nt)*dt, s_t)\n",
    "plt.title(\"External force scaling factor evolution\")\n",
    "plt.xlabel(\"Time\")\n",
    "plt.ylabel(\"Scaling factor\")"
   ]
  },
  {
   "cell_type": "code",
   "execution_count": 5,
   "id": "9839c676-b37b-4aa5-8a81-abb6e3f8c05c",
   "metadata": {},
   "outputs": [],
   "source": [
    "s_x_t = np.array([s_x*s_t[t] for t in range(len(s_t))])\n",
    "s_y_t = np.array([s_y*s_t[t] for t in range(len(s_t))])"
   ]
  },
  {
   "cell_type": "markdown",
   "id": "70e23ebe-2aa7-4c71-a826-1c763a5257de",
   "metadata": {},
   "source": [
    "We define the external force evolution:"
   ]
  },
  {
   "cell_type": "code",
   "execution_count": 6,
   "id": "d5133304-49fa-4d3f-9f75-1af9339f6365",
   "metadata": {},
   "outputs": [],
   "source": [
    "f = VectorTimeFunction(name='f', grid=grid, space_order=1, save=nt, time_order=1)\n",
    "f[0].data[:] = s_x_t\n",
    "f[1].data[:] = s_y_t"
   ]
  },
  {
   "cell_type": "markdown",
   "id": "e801dc44-ee04-42b7-bd21-b34faa1c796f",
   "metadata": {},
   "source": [
    "We generate a video named `f.mp4`:"
   ]
  },
  {
   "cell_type": "code",
   "execution_count": 10,
   "id": "671a293e-7971-451e-94ad-a2e69ed071d8",
   "metadata": {},
   "outputs": [
    {
     "data": {
      "application/vnd.jupyter.widget-view+json": {
       "model_id": "18721f2c26554abf8e48fd9031e21fe8",
       "version_major": 2,
       "version_minor": 0
      },
      "text/plain": [
       "  0%|          | 0/100 [00:00<?, ?it/s]"
      ]
     },
     "metadata": {},
     "output_type": "display_data"
    }
   ],
   "source": [
    "ddt = 10\n",
    "generate_quiver_video(f[0].data[::ddt], f[1].data[::ddt], name=\"VectorAcousticWavePropagation_f\", nx=nx, dt=ddt*dt)"
   ]
  },
  {
   "cell_type": "markdown",
   "id": "56a14562-9570-42c2-b96d-4ec9183fac62",
   "metadata": {},
   "source": [
    "## Equation\n",
    "The PDE we want to solve is \n",
    "$$\\frac{d^2u}{dt^2} = c\\nabla^2 u + f$$"
   ]
  },
  {
   "cell_type": "code",
   "execution_count": 13,
   "id": "b07f0c98-c151-4049-9119-1572ca7edea0",
   "metadata": {},
   "outputs": [
    {
     "data": {
      "text/plain": [
       "PerformanceSummary([(PerfKey(name='section0', rank=None),\n",
       "                     PerfEntry(time=0.007184999999999996, gflopss=0.0, gpointss=0.0, oi=0.0, ops=0, itershapes=[]))])"
      ]
     },
     "execution_count": 13,
     "metadata": {},
     "output_type": "execute_result"
    }
   ],
   "source": [
    "u = VectorTimeFunction(name='u', grid=grid, space_order=2, save=nt, time_order=2)\n",
    "\n",
    "c = Function(name=\"c\", grid=grid)\n",
    "c.data[:] = Marmousi(nx).get_data()\n",
    "c.data[:] *= (100/np.max(c.data[:]))\n",
    "\n",
    "eq = Eq(u.dt2, f + (c**2)*u.laplace)\n",
    "\n",
    "stencil = solve(eq, u.forward)\n",
    "\n",
    "op = Operator([Eq(u.forward, stencil)], opt='noop')\n",
    "\n",
    "op.apply(dt=dt)"
   ]
  },
  {
   "cell_type": "code",
   "execution_count": 14,
   "id": "da9cdaa5-0ae2-4c07-8516-ff576de83bd4",
   "metadata": {},
   "outputs": [
    {
     "data": {
      "text/latex": [
       "$\\displaystyle \\left[\\begin{matrix}\\frac{\\partial^{2}}{\\partial time^{2}} u_x(time, x + h_x/2, y)\\\\\\frac{\\partial^{2}}{\\partial time^{2}} u_y(time, x, y + h_y/2)\\end{matrix}\\right] = \\left[\\begin{matrix}\\left(\\frac{\\partial^{2}}{\\partial x^{2}} u_x(time, x + h_x/2, y) + \\frac{\\partial^{2}}{\\partial y^{2}} u_x(time, x + h_x/2, y)\\right) c(x, y) + f_x(time, x + h_x/2, y)\\\\\\left(\\frac{\\partial^{2}}{\\partial x^{2}} u_y(time, x, y + h_y/2) + \\frac{\\partial^{2}}{\\partial y^{2}} u_y(time, x, y + h_y/2)\\right) c(x, y) + f_y(time, x, y + h_y/2)\\end{matrix}\\right]$"
      ],
      "text/plain": [
       "Eq(Vector(Derivative(u_x(time, x + h_x/2, y), (time, 2)), Derivative(u_y(time, x, y + h_y/2), (time, 2))), Vector((Derivative(u_x(time, x + h_x/2, y), (x, 2)) + Derivative(u_x(time, x + h_x/2, y), (y, 2)))*c(x, y)**2 + f_x(time, x + h_x/2, y), (Derivative(u_y(time, x, y + h_y/2), (x, 2)) + Derivative(u_y(time, x, y + h_y/2), (y, 2)))*c(x, y)**2 + f_y(time, x, y + h_y/2)))"
      ]
     },
     "execution_count": 14,
     "metadata": {},
     "output_type": "execute_result"
    }
   ],
   "source": [
    "eq"
   ]
  },
  {
   "cell_type": "markdown",
   "id": "11283f09-776e-4103-bf7d-89963ff365e7",
   "metadata": {},
   "source": [
    "We generate a video fo the evolution of `u`:"
   ]
  },
  {
   "cell_type": "code",
   "execution_count": 15,
   "id": "8697f73e-1f4c-4995-a5c0-2135984318f8",
   "metadata": {},
   "outputs": [
    {
     "data": {
      "application/vnd.jupyter.widget-view+json": {
       "model_id": "29d9c8f8ab534e92a21fc5264b588973",
       "version_major": 2,
       "version_minor": 0
      },
      "text/plain": [
       "  0%|          | 0/500 [00:00<?, ?it/s]"
      ]
     },
     "metadata": {},
     "output_type": "display_data"
    }
   ],
   "source": [
    "ddt=2\n",
    "generate_quiver_video(u[0].data[::ddt], u[1].data[::ddt], name=\"VectorAcousticWavePropagation_u\", nx=nx, dt=ddt*dt, c=c)"
   ]
  },
  {
   "cell_type": "code",
   "execution_count": null,
   "id": "cbd0c52c-0e13-47a5-a386-868ebe592ace",
   "metadata": {},
   "outputs": [],
   "source": []
  }
 ],
 "metadata": {
  "kernelspec": {
   "display_name": "Python 3 (ipykernel)",
   "language": "python",
   "name": "python3"
  },
  "language_info": {
   "codemirror_mode": {
    "name": "ipython",
    "version": 3
   },
   "file_extension": ".py",
   "mimetype": "text/x-python",
   "name": "python",
   "nbconvert_exporter": "python",
   "pygments_lexer": "ipython3",
   "version": "3.11.6"
  }
 },
 "nbformat": 4,
 "nbformat_minor": 5
}
