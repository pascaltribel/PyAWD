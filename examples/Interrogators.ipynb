{
 "cells": [
  {
   "cell_type": "markdown",
   "id": "6199a76f-545c-47d5-b2d4-5f6e1893d894",
   "metadata": {},
   "source": [
    "# Using interrogators"
   ]
  },
  {
   "cell_type": "markdown",
   "id": "f908b6c4-c35f-4fa5-9e74-180c27ef6e5a",
   "metadata": {},
   "source": [
    "Interrogators are specific points where the (_almost_) continuous amplitude data can be interrogated. This allows to simulate the behaviour of measuring devices distributed through the field.\n",
    "\n",
    "In PyAWD, the default interrogator is the center coordinate `(0, 0)`. One can specify other interrogable points by passing a list of tuples at the construction of the dataset."
   ]
  },
  {
   "cell_type": "code",
   "execution_count": 4,
   "id": "1e9a5647-e378-4da6-84d0-b13c73159de7",
   "metadata": {},
   "outputs": [],
   "source": [
    "from PyAWD.AcousticWaveDataset import AcousticWaveDataset\n",
    "import matplotlib.pyplot as plt"
   ]
  },
  {
   "cell_type": "code",
   "execution_count": 3,
   "id": "f9df9c37-cfe1-4624-8af5-e460e822692d",
   "metadata": {},
   "outputs": [
    {
     "data": {
      "application/vnd.jupyter.widget-view+json": {
       "model_id": "2c4fb29bb5a0406e9d0b35a3e9331dc7",
       "version_major": 2,
       "version_minor": 0
      },
      "text/plain": [
       "  0%|          | 0/10 [00:00<?, ?it/s]"
      ]
     },
     "metadata": {},
     "output_type": "display_data"
    }
   ],
   "source": [
    "dataset = AcousticWaveDataset(10)"
   ]
  },
  {
   "cell_type": "code",
   "execution_count": null,
   "id": "3647030c-1194-4f4c-aad9-aeb0cbacd943",
   "metadata": {},
   "outputs": [],
   "source": [
    "plt.plot(dataset.interrogate((0, 0)))"
   ]
  }
 ],
 "metadata": {
  "kernelspec": {
   "display_name": "Python 3 (ipykernel)",
   "language": "python",
   "name": "python3"
  },
  "language_info": {
   "codemirror_mode": {
    "name": "ipython",
    "version": 3
   },
   "file_extension": ".py",
   "mimetype": "text/x-python",
   "name": "python",
   "nbconvert_exporter": "python",
   "pygments_lexer": "ipython3",
   "version": "3.11.6"
  }
 },
 "nbformat": 4,
 "nbformat_minor": 5
}
