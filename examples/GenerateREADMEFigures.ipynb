{
 "cells": [
  {
   "cell_type": "code",
   "execution_count": 1,
   "id": "06915efd-e3bc-4caf-8f70-115c2f0e2c26",
   "metadata": {},
   "outputs": [],
   "source": [
    "from pyawd import *"
   ]
  },
  {
   "cell_type": "code",
   "execution_count": 10,
   "id": "26a19ea2-95fb-45b7-abe2-c75fe6c308b6",
   "metadata": {},
   "outputs": [],
   "source": [
    "dataset = VectorAcousticWaveDataset2D(2, nx=128, dt=2, t=10, velocity_model=\"Marmousi\")\n",
    "dataset.max_velocities[0] = 500"
   ]
  },
  {
   "cell_type": "code",
   "execution_count": 16,
   "id": "9620cb31-f8d6-410f-a2aa-f18986b61610",
   "metadata": {},
   "outputs": [],
   "source": [
    "%matplotlib qt\n",
    "dataset.plot_item(0)"
   ]
  },
  {
   "cell_type": "code",
   "execution_count": 17,
   "id": "6efddf62-2ad3-4fce-b72f-958ab5768e58",
   "metadata": {},
   "outputs": [],
   "source": [
    "dataset.plot_interrogators_response(0)"
   ]
  },
  {
   "cell_type": "code",
   "execution_count": 14,
   "id": "38c5764b-b165-45ec-8749-39e8b7a179b7",
   "metadata": {},
   "outputs": [],
   "source": [
    "dataset_3d = VectorAcousticWaveDataset3D(1, nx=32, t=10, interrogators=[(0, 10, 15), (0, -10, 15)], velocity_model=300.)"
   ]
  },
  {
   "cell_type": "code",
   "execution_count": 15,
   "id": "a259fcc2-54af-40d8-ac9b-a6c5e90315c2",
   "metadata": {},
   "outputs": [
    {
     "data": {
      "application/vnd.jupyter.widget-view+json": {
       "model_id": "8a8c073ed8984c82b55f4587e499c662",
       "version_major": 2,
       "version_minor": 0
      },
      "text/plain": [
       "  0%|          | 0/200 [00:00<?, ?it/s]"
      ]
     },
     "metadata": {},
     "output_type": "display_data"
    }
   ],
   "source": [
    "dataset_3d.generate_video(0, \"VAWD3D\", 200)"
   ]
  },
  {
   "cell_type": "code",
   "execution_count": null,
   "id": "15e40e1a-0733-4735-bc31-d3d21d47cd41",
   "metadata": {},
   "outputs": [],
   "source": []
  }
 ],
 "metadata": {
  "kernelspec": {
   "display_name": "Python 3 (ipykernel)",
   "language": "python",
   "name": "python3"
  },
  "language_info": {
   "codemirror_mode": {
    "name": "ipython",
    "version": 3
   },
   "file_extension": ".py",
   "mimetype": "text/x-python",
   "name": "python",
   "nbconvert_exporter": "python",
   "pygments_lexer": "ipython3",
   "version": "3.11.6"
  }
 },
 "nbformat": 4,
 "nbformat_minor": 5
}
