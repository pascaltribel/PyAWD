{
 "cells": [
  {
   "cell_type": "code",
   "execution_count": 1,
   "id": "f907cfb6-8ce5-40dd-82e8-262c4e22b7bf",
   "metadata": {},
   "outputs": [],
   "source": [
    "from pyawd import *"
   ]
  },
  {
   "cell_type": "markdown",
   "id": "027920d0-428e-4437-9ab0-b38fd5c441a0",
   "metadata": {},
   "source": [
    "Interrogators (depth (higher is fronter), width (higher is righter), height (higher is higher))"
   ]
  },
  {
   "cell_type": "code",
   "execution_count": 203,
   "id": "2d5ec469-3d02-4338-a9d7-3bb54744e027",
   "metadata": {},
   "outputs": [
    {
     "data": {
      "application/vnd.jupyter.widget-view+json": {
       "model_id": "3d2f6dcc028b4b4b9f782420a64bf63d",
       "version_major": 2,
       "version_minor": 0
      },
      "text/plain": [
       "  0%|          | 0/1 [00:00<?, ?it/s]"
      ]
     },
     "metadata": {},
     "output_type": "display_data"
    }
   ],
   "source": [
    "#d = VectorAcousticWaveDataset(1, dx=1024./32, nx=32, t=10, ddt=0.01, velocity_model=1024./2, interrogators=[(0, 8, 15)], dim=3)\n",
    "d = VectorAcousticWaveDataset(1, nx=32, dim=2, velocity_model=\"Marmousi\")"
   ]
  },
  {
   "cell_type": "code",
   "execution_count": 204,
   "id": "5447b2b0-bf69-411a-8ca5-95bcb8f7af0b",
   "metadata": {},
   "outputs": [
    {
     "ename": "NameError",
     "evalue": "name 'generate_quiver_video' is not defined",
     "output_type": "error",
     "traceback": [
      "\u001b[0;31m---------------------------------------------------------------------------\u001b[0m",
      "\u001b[0;31mNameError\u001b[0m                                 Traceback (most recent call last)",
      "Cell \u001b[0;32mIn[204], line 1\u001b[0m\n\u001b[0;32m----> 1\u001b[0m \u001b[43md\u001b[49m\u001b[38;5;241;43m.\u001b[39;49m\u001b[43mgenerate_video\u001b[49m\u001b[43m(\u001b[49m\u001b[38;5;241;43m0\u001b[39;49m\u001b[43m,\u001b[49m\u001b[43m \u001b[49m\u001b[38;5;124;43m\"\u001b[39;49m\u001b[38;5;124;43mtest\u001b[39;49m\u001b[38;5;124;43m\"\u001b[39;49m\u001b[43m,\u001b[49m\u001b[43m \u001b[49m\u001b[38;5;241;43m100\u001b[39;49m\u001b[43m)\u001b[49m\n",
      "Cell \u001b[0;32mIn[194], line 303\u001b[0m, in \u001b[0;36mVectorAcousticWaveDataset.generate_video\u001b[0;34m(self, idx, filename, nb_images)\u001b[0m\n\u001b[1;32m    300\u001b[0m u \u001b[38;5;241m=\u001b[39m solve_vector_pde(\u001b[38;5;28mself\u001b[39m\u001b[38;5;241m.\u001b[39mgrid, \u001b[38;5;28mself\u001b[39m\u001b[38;5;241m.\u001b[39mnx, \u001b[38;5;28mself\u001b[39m\u001b[38;5;241m.\u001b[39mndt, \u001b[38;5;28mself\u001b[39m\u001b[38;5;241m.\u001b[39mddt, \u001b[38;5;28mself\u001b[39m\u001b[38;5;241m.\u001b[39mepicenters[idx], \u001b[38;5;28mself\u001b[39m\u001b[38;5;241m.\u001b[39mvelocity_model,\n\u001b[1;32m    301\u001b[0m                             \u001b[38;5;28mself\u001b[39m\u001b[38;5;241m.\u001b[39mmax_velocities[idx], \u001b[38;5;28mself\u001b[39m\u001b[38;5;241m.\u001b[39mforce_delay[idx], \u001b[38;5;28mself\u001b[39m\u001b[38;5;241m.\u001b[39mamplitude_factor[idx], \u001b[38;5;28mself\u001b[39m\u001b[38;5;241m.\u001b[39mdim)\n\u001b[1;32m    302\u001b[0m \u001b[38;5;28;01mif\u001b[39;00m \u001b[38;5;28mself\u001b[39m\u001b[38;5;241m.\u001b[39mdim \u001b[38;5;241m==\u001b[39m \u001b[38;5;241m2\u001b[39m:\n\u001b[0;32m--> 303\u001b[0m     \u001b[43mgenerate_quiver_video\u001b[49m(u[\u001b[38;5;241m0\u001b[39m][::\u001b[38;5;28mself\u001b[39m\u001b[38;5;241m.\u001b[39mndt \u001b[38;5;241m/\u001b[39m\u001b[38;5;241m/\u001b[39m nb_images], u[\u001b[38;5;241m1\u001b[39m][::\u001b[38;5;28mself\u001b[39m\u001b[38;5;241m.\u001b[39mndt \u001b[38;5;241m/\u001b[39m\u001b[38;5;241m/\u001b[39m nb_images], \u001b[38;5;28mself\u001b[39m\u001b[38;5;241m.\u001b[39minterrogators,\n\u001b[1;32m    304\u001b[0m                           {i: \u001b[38;5;28mself\u001b[39m\u001b[38;5;241m.\u001b[39minterrogate(idx, i)[:, ::\u001b[38;5;28mself\u001b[39m\u001b[38;5;241m.\u001b[39mndt \u001b[38;5;241m/\u001b[39m\u001b[38;5;241m/\u001b[39m nb_images] \u001b[38;5;28;01mfor\u001b[39;00m i \u001b[38;5;129;01min\u001b[39;00m \u001b[38;5;28mself\u001b[39m\u001b[38;5;241m.\u001b[39minterrogators},\n\u001b[1;32m    305\u001b[0m                           filename, nx\u001b[38;5;241m=\u001b[39m\u001b[38;5;28mself\u001b[39m\u001b[38;5;241m.\u001b[39mnx, dt\u001b[38;5;241m=\u001b[39m\u001b[38;5;28mself\u001b[39m\u001b[38;5;241m.\u001b[39mndt \u001b[38;5;241m*\u001b[39m \u001b[38;5;28mself\u001b[39m\u001b[38;5;241m.\u001b[39mddt \u001b[38;5;241m/\u001b[39m nb_images, c\u001b[38;5;241m=\u001b[39m\u001b[38;5;28mself\u001b[39m\u001b[38;5;241m.\u001b[39mvelocity_model,\n\u001b[1;32m    306\u001b[0m                           max_velocity\u001b[38;5;241m=\u001b[39m\u001b[38;5;28mself\u001b[39m\u001b[38;5;241m.\u001b[39mmax_velocities[idx], dim\u001b[38;5;241m=\u001b[39m\u001b[38;5;28mself\u001b[39m\u001b[38;5;241m.\u001b[39mdim, verbose\u001b[38;5;241m=\u001b[39m\u001b[38;5;28;01mTrue\u001b[39;00m)\n\u001b[1;32m    307\u001b[0m \u001b[38;5;28;01melse\u001b[39;00m:\n\u001b[1;32m    308\u001b[0m     generate_density_video(u[\u001b[38;5;241m0\u001b[39m][::\u001b[38;5;28mself\u001b[39m\u001b[38;5;241m.\u001b[39mndt \u001b[38;5;241m/\u001b[39m\u001b[38;5;241m/\u001b[39m nb_images], u[\u001b[38;5;241m1\u001b[39m][::\u001b[38;5;28mself\u001b[39m\u001b[38;5;241m.\u001b[39mndt \u001b[38;5;241m/\u001b[39m\u001b[38;5;241m/\u001b[39m nb_images],\n\u001b[1;32m    309\u001b[0m                           u[\u001b[38;5;241m2\u001b[39m][::\u001b[38;5;28mself\u001b[39m\u001b[38;5;241m.\u001b[39mndt \u001b[38;5;241m/\u001b[39m\u001b[38;5;241m/\u001b[39m nb_images], \u001b[38;5;28mself\u001b[39m\u001b[38;5;241m.\u001b[39minterrogators,\n\u001b[1;32m    310\u001b[0m                           {i: \u001b[38;5;28mself\u001b[39m\u001b[38;5;241m.\u001b[39minterrogate(idx, i)[:, ::\u001b[38;5;28mself\u001b[39m\u001b[38;5;241m.\u001b[39mndt \u001b[38;5;241m/\u001b[39m\u001b[38;5;241m/\u001b[39m nb_images] \u001b[38;5;28;01mfor\u001b[39;00m i \u001b[38;5;129;01min\u001b[39;00m \u001b[38;5;28mself\u001b[39m\u001b[38;5;241m.\u001b[39minterrogators},\n\u001b[1;32m    311\u001b[0m                           filename, nx\u001b[38;5;241m=\u001b[39m\u001b[38;5;28mself\u001b[39m\u001b[38;5;241m.\u001b[39mnx, dt\u001b[38;5;241m=\u001b[39m\u001b[38;5;28mself\u001b[39m\u001b[38;5;241m.\u001b[39mddt \u001b[38;5;241m*\u001b[39m (\u001b[38;5;28mself\u001b[39m\u001b[38;5;241m.\u001b[39mndt \u001b[38;5;241m/\u001b[39m\u001b[38;5;241m/\u001b[39m nb_images), dx\u001b[38;5;241m=\u001b[39m\u001b[38;5;28mself\u001b[39m\u001b[38;5;241m.\u001b[39mdx)\n",
      "\u001b[0;31mNameError\u001b[0m: name 'generate_quiver_video' is not defined"
     ]
    }
   ],
   "source": [
    "d.generate_video(0, \"test\", 100)"
   ]
  },
  {
   "cell_type": "code",
   "execution_count": null,
   "id": "0c9ebab0-7699-41be-a8e7-dc7638a002aa",
   "metadata": {},
   "outputs": [],
   "source": [
    "#d.plot_item(0)\n",
    "d.plot_interrogators_response(0)"
   ]
  },
  {
   "cell_type": "code",
   "execution_count": null,
   "id": "a039e504-8cfe-47e0-b374-a0c67651d3cf",
   "metadata": {},
   "outputs": [],
   "source": []
  }
 ],
 "metadata": {
  "kernelspec": {
   "display_name": "Python 3 (ipykernel)",
   "language": "python",
   "name": "python3"
  },
  "language_info": {
   "codemirror_mode": {
    "name": "ipython",
    "version": 3
   },
   "file_extension": ".py",
   "mimetype": "text/x-python",
   "name": "python",
   "nbconvert_exporter": "python",
   "pygments_lexer": "ipython3",
   "version": "3.11.6"
  }
 },
 "nbformat": 4,
 "nbformat_minor": 5
}
